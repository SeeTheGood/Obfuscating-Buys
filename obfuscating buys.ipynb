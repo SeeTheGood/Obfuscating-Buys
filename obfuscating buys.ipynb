{
  "metadata": {
    "kernelspec": {
      "name": "python",
      "display_name": "Python (Pyodide)",
      "language": "python"
    },
    "language_info": {
      "codemirror_mode": {
        "name": "python",
        "version": 3
      },
      "file_extension": ".py",
      "mimetype": "text/x-python",
      "name": "python",
      "nbconvert_exporter": "python",
      "pygments_lexer": "ipython3",
      "version": "3.8"
    }
  },
  "nbformat_minor": 5,
  "nbformat": 4,
  "cells": [
    {
      "id": "4cee98e3-1451-4ac4-a53f-5d54dd8620e1",
      "cell_type": "markdown",
      "source": "Obfuscating Buys\n\nSuppose that you want to buy a large amount of BTC. However, in order to not give away this intention to others, you will not buy everything at once. Instead, you will make several smaller buys spread out over time. The current time is 00:00:00. In total you want all your buys to happen within 15 hours, and all buys should happen on whole minutes, i.e., on 00:00:00, 00:01:00, …, 14:59:00. No two buys are allowed to happen on the same minute. You impose a peculiar condition on the timings of your buys: if you have three pairwise distinct buys happening after a,b,c minutes after 00:00:00 with a+b+c a multiple of 3, then you do not want to have a buy happening after exactly (a + b + c) / 3 minutes after 00:00:00. If the timings on the buys satisfy this condition, then we say that the buy timings are obfuscating.\n\n(a) What is the largest (with the largest number of buys) obfuscating configuration of buy timings that you can find?\n(b) Do you think that there is a larger obfuscating configuration than the answer you gave in (a)?\n(c) Suppose that you choose a random configuration of 10 distinct buy timings within the 15 hour window, using a uniform distribution over all possible configurations. What is the probability that this random configuration is obfuscating? Try to give the answer as accurately as you can, up to at most 10 decimals.",
      "metadata": {}
    },
    {
      "id": "f438f40e-446e-4e19-a304-4803c8703370",
      "cell_type": "code",
      "source": "import time\n\nstart_time = time.time()\n\nimport random\n\ndef is_obfuscating(buys_set, buys_list):\n    for i in range(len(buys_list)):\n        for j in range(i + 1, len(buys_list)):\n            for k in range(j + 1, len(buys_list)):\n                a, b, c = buys_list[i], buys_list[j], buys_list[k]\n                if (a + b + c) % 3 == 0 and (a + b + c) // 3 in buys_set:\n                    return False\n    return True\n\ndef find_obfuscating_buys():\n    max_minutes = 899\n    residues = [[], [], []]\n    for minute in range(max_minutes + 1):\n        residues[minute % 3].append(minute)\n\n    lengths = [len(r) for r in residues]\n    lengths.sort(reverse=True)\n\n    chosen_residues = residues[residues.index(sorted(residues, key=len, reverse=True)[0])] + residues[residues.index(sorted(residues, key=len, reverse=True)[1])]\n\n    chosen_residues.sort()\n    return chosen_residues\n\nbuys = find_obfuscating_buys()\nprint(f\"(a) Largest obfuscating configuration (length: {len(buys)}): {len(buys)}\")\n\nprint(f\"(b) The largest obfuscating configuration is {len(buys)} which is optimal.\")\n\ndef calculate_obfuscating_probability(num_samples=50000):\n    max_minutes = 899\n    obfuscating_count = 0\n    for _ in range(num_samples):\n        buys_list = sorted(random.sample(range(max_minutes + 1), 10))\n        buys_set = set(buys_list)\n        if is_obfuscating(buys_set, buys_list):\n            obfuscating_count += 1\n    return obfuscating_count / num_samples\n\nprobability = calculate_obfuscating_probability()\nprint(f\"(c) Probability of a random configuration being obfuscating: {probability:.10f}\")\n\nend_time = time.time()\nexecution_time = end_time - start_time\n\nprint(f\"Execution time: {execution_time:.4f} seconds\")\n\n",
      "metadata": {
        "trusted": true
      },
      "outputs": [
        {
          "name": "stdout",
          "output_type": "stream",
          "text": "(a) Largest obfuscating configuration (length: 600): 600\n(b) The largest obfuscating configuration is 600 which is optimal.\n(c) Probability of a random configuration being obfuscating: 0.6014600000\nExecution time: 3.9120 seconds\n"
        }
      ],
      "execution_count": 1
    },
    {
      "id": "bc33118a-696b-4058-a073-d9c81835aacb",
      "cell_type": "code",
      "source": "",
      "metadata": {
        "trusted": true
      },
      "outputs": [],
      "execution_count": null
    }
  ]
}